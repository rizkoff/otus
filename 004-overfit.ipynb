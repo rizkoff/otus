{
 "cells": [
  {
   "cell_type": "code",
   "execution_count": 1,
   "metadata": {},
   "outputs": [],
   "source": [
    "import torch\n",
    "import random\n",
    "import numpy as np\n",
    "\n",
    "random.seed(0)\n",
    "np.random.seed(0)\n",
    "torch.manual_seed(0)\n",
    "torch.cuda.manual_seed(0)\n",
    "torch.backends.cudnn.deterministic = True"
   ]
  },
  {
   "cell_type": "code",
   "execution_count": 2,
   "metadata": {},
   "outputs": [],
   "source": [
    "import torchvision.datasets\n",
    "MNIST_train = torchvision.datasets.MNIST('./', download=True, train=True)\n",
    "MNIST_test = torchvision.datasets.MNIST('./', download=True, train=False)"
   ]
  },
  {
   "cell_type": "code",
   "execution_count": 3,
   "metadata": {},
   "outputs": [],
   "source": [
    "X_train = MNIST_train.data[0:100] # 1-е отличие: маленький тренировочный датасет, легко зазубрить, вместо того \n",
    "y_train = MNIST_train.targets[0:100] # чтобы учиться обобщать\n",
    "X_test = MNIST_test.data[0:200]\n",
    "y_test = MNIST_test.targets[0:200]"
   ]
  },
  {
   "cell_type": "code",
   "execution_count": 4,
   "metadata": {},
   "outputs": [
    {
     "data": {
      "text/plain": [
       "(torch.uint8, torch.int64)"
      ]
     },
     "execution_count": 4,
     "metadata": {},
     "output_type": "execute_result"
    }
   ],
   "source": [
    "X_train.dtype, y_train.dtype"
   ]
  },
  {
   "cell_type": "code",
   "execution_count": 5,
   "metadata": {},
   "outputs": [],
   "source": [
    "X_train = X_train.float()\n",
    "X_test = X_test.float()"
   ]
  },
  {
   "cell_type": "code",
   "execution_count": 6,
   "metadata": {},
   "outputs": [
    {
     "data": {
      "text/plain": [
       "(torch.Size([100, 28, 28]), torch.Size([200, 28, 28]))"
      ]
     },
     "execution_count": 6,
     "metadata": {},
     "output_type": "execute_result"
    }
   ],
   "source": [
    "X_train.shape, X_test.shape"
   ]
  },
  {
   "cell_type": "code",
   "execution_count": 7,
   "metadata": {},
   "outputs": [
    {
     "data": {
      "text/plain": [
       "(torch.Size([100]), torch.Size([200]))"
      ]
     },
     "execution_count": 7,
     "metadata": {},
     "output_type": "execute_result"
    }
   ],
   "source": [
    "y_train.shape, y_test.shape"
   ]
  },
  {
   "cell_type": "code",
   "execution_count": 8,
   "metadata": {},
   "outputs": [],
   "source": [
    "#import matplotlib.pyplot as plt\n",
    "#plt.imshow(X_train[10, :, :])\n",
    "#plt.show()\n",
    "#print(y_train[10])"
   ]
  },
  {
   "cell_type": "code",
   "execution_count": 9,
   "metadata": {},
   "outputs": [],
   "source": [
    "X_train = X_train.reshape([-1, 28 * 28])\n",
    "X_test = X_test.reshape([-1, 28 * 28])"
   ]
  },
  {
   "cell_type": "code",
   "execution_count": 10,
   "metadata": {},
   "outputs": [],
   "source": [
    "class MNISTNet(torch.nn.Module):\n",
    "    def __init__(self, n_hidden_neurons):\n",
    "        super(MNISTNet, self).__init__()\n",
    "        self.fc1 = torch.nn.Linear(28 * 28, 5*n_hidden_neurons)# 2-й шаг: слишком сложная сеть для такого \n",
    "        self.ac1 = torch.nn.Sigmoid()\n",
    "        self.fc12 = torch.nn.Linear(5*n_hidden_neurons, 1*n_hidden_neurons)# наглядного датасета\n",
    "        self.ac12 = torch.nn.Sigmoid()\n",
    "        self.fc22 = torch.nn.Linear(1*n_hidden_neurons, 1*n_hidden_neurons)#\n",
    "        self.ac22 = torch.nn.Sigmoid()\n",
    "        self.fc2 = torch.nn.Linear(1*n_hidden_neurons, 10) \n",
    "    \n",
    "    def forward(self, x):\n",
    "        x = self.fc1(x)\n",
    "        x = self.ac1(x)\n",
    "        x = self.fc12(x)\n",
    "        x = self.ac12(x)\n",
    "        x = self.fc22(x)\n",
    "        x = self.ac22(x)\n",
    "        x = self.fc2(x)\n",
    "        return x\n",
    "    \n",
    "mnist_net = MNISTNet(300)\n",
    "#                28*28; 1500; 300; 300; 10"
   ]
  },
  {
   "cell_type": "code",
   "execution_count": 11,
   "metadata": {},
   "outputs": [
    {
     "data": {
      "text/plain": [
       "True"
      ]
     },
     "execution_count": 11,
     "metadata": {},
     "output_type": "execute_result"
    }
   ],
   "source": [
    "torch.cuda.is_available()"
   ]
  },
  {
   "cell_type": "code",
   "execution_count": 12,
   "metadata": {},
   "outputs": [
    {
     "name": "stdout",
     "output_type": "stream",
     "text": [
      "Sun May 17 22:55:12 2020       \r\n",
      "+-----------------------------------------------------------------------------+\r\n",
      "| NVIDIA-SMI 440.64.00    Driver Version: 440.64.00    CUDA Version: 10.2     |\r\n",
      "|-------------------------------+----------------------+----------------------+\r\n",
      "| GPU  Name        Persistence-M| Bus-Id        Disp.A | Volatile Uncorr. ECC |\r\n",
      "| Fan  Temp  Perf  Pwr:Usage/Cap|         Memory-Usage | GPU-Util  Compute M. |\r\n",
      "|===============================+======================+======================|\r\n",
      "|   0  GeForce GTX 750 Ti  On   | 00000000:01:00.0 Off |                  N/A |\r\n",
      "| 14%   36C    P8     1W /  38W |    655MiB /  1999MiB |      0%      Default |\r\n",
      "+-------------------------------+----------------------+----------------------+\r\n",
      "                                                                               \r\n",
      "+-----------------------------------------------------------------------------+\r\n",
      "| Processes:                                                       GPU Memory |\r\n",
      "|  GPU       PID   Type   Process name                             Usage      |\r\n",
      "|=============================================================================|\r\n",
      "+-----------------------------------------------------------------------------+\r\n"
     ]
    }
   ],
   "source": [
    "!nvidia-smi"
   ]
  },
  {
   "cell_type": "code",
   "execution_count": 13,
   "metadata": {
    "scrolled": true
   },
   "outputs": [],
   "source": [
    "device = torch.device('cuda:0' if torch.cuda.is_available() else 'cpu')\n",
    "mnist_net = mnist_net.to(device)\n",
    "#list(mnist_net.parameters())"
   ]
  },
  {
   "cell_type": "code",
   "execution_count": 14,
   "metadata": {},
   "outputs": [],
   "source": [
    "loss = torch.nn.CrossEntropyLoss()\n",
    "optimizer = torch.optim.Adam(mnist_net.parameters(), lr=7.5e-4) # 1.0e-3) # легкое изменение. ухудшать LR цели нет."
   ]
  },
  {
   "cell_type": "code",
   "execution_count": 15,
   "metadata": {
    "scrolled": true
   },
   "outputs": [
    {
     "name": "stdout",
     "output_type": "stream",
     "text": [
      "tensor(0.2250, device='cuda:0')\n",
      "tensor(0.3900, device='cuda:0')\n",
      "tensor(0.5050, device='cuda:0')\n",
      "tensor(0.5000, device='cuda:0')\n",
      "tensor(0.5000, device='cuda:0')\n",
      "tensor(0.5350, device='cuda:0')\n",
      "tensor(0.5200, device='cuda:0')\n",
      "tensor(0.5700, device='cuda:0')\n",
      "tensor(0.5550, device='cuda:0')\n",
      "tensor(0.5700, device='cuda:0')\n",
      "tensor(0.6150, device='cuda:0')\n",
      "tensor(0.6000, device='cuda:0')\n",
      "tensor(0.6100, device='cuda:0')\n",
      "tensor(0.6050, device='cuda:0')\n",
      "tensor(0.5250, device='cuda:0')\n",
      "tensor(0.6350, device='cuda:0')\n",
      "tensor(0.6200, device='cuda:0')\n",
      "tensor(0.6100, device='cuda:0')\n",
      "tensor(0.6450, device='cuda:0')\n",
      "tensor(0.6350, device='cuda:0')\n",
      "tensor(0.5600, device='cuda:0')\n",
      "tensor(0.6150, device='cuda:0')\n",
      "tensor(0.5850, device='cuda:0')\n",
      "tensor(0.6050, device='cuda:0')\n",
      "tensor(0.6700, device='cuda:0')\n",
      "tensor(0.6250, device='cuda:0')\n",
      "tensor(0.6100, device='cuda:0')\n",
      "tensor(0.6300, device='cuda:0')\n",
      "tensor(0.6250, device='cuda:0')\n",
      "tensor(0.6500, device='cuda:0')\n",
      "tensor(0.6300, device='cuda:0')\n",
      "tensor(0.6050, device='cuda:0')\n",
      "tensor(0.6000, device='cuda:0')\n",
      "tensor(0.6100, device='cuda:0')\n",
      "tensor(0.6300, device='cuda:0')\n",
      "tensor(0.6550, device='cuda:0')\n",
      "tensor(0.6400, device='cuda:0')\n",
      "tensor(0.6400, device='cuda:0')\n",
      "tensor(0.6350, device='cuda:0')\n",
      "tensor(0.6400, device='cuda:0')\n",
      "tensor(0.6250, device='cuda:0')\n",
      "tensor(0.6400, device='cuda:0')\n",
      "tensor(0.6500, device='cuda:0')\n",
      "tensor(0.6250, device='cuda:0')\n",
      "tensor(0.6250, device='cuda:0')\n",
      "tensor(0.6350, device='cuda:0')\n",
      "tensor(0.6300, device='cuda:0')\n",
      "tensor(0.6400, device='cuda:0')\n",
      "tensor(0.6350, device='cuda:0')\n",
      "tensor(0.6400, device='cuda:0')\n",
      "tensor(0.6400, device='cuda:0')\n",
      "tensor(0.6300, device='cuda:0')\n",
      "tensor(0.6450, device='cuda:0')\n",
      "tensor(0.6400, device='cuda:0')\n",
      "tensor(0.6350, device='cuda:0')\n",
      "tensor(0.6350, device='cuda:0')\n",
      "tensor(0.6450, device='cuda:0')\n",
      "tensor(0.6400, device='cuda:0')\n",
      "tensor(0.6250, device='cuda:0')\n",
      "tensor(0.6500, device='cuda:0')\n",
      "tensor(0.6250, device='cuda:0')\n",
      "tensor(0.6300, device='cuda:0')\n",
      "tensor(0.6350, device='cuda:0')\n",
      "tensor(0.6350, device='cuda:0')\n",
      "tensor(0.6450, device='cuda:0')\n",
      "tensor(0.6500, device='cuda:0')\n",
      "tensor(0.6350, device='cuda:0')\n",
      "tensor(0.6550, device='cuda:0')\n",
      "tensor(0.6400, device='cuda:0')\n",
      "tensor(0.6250, device='cuda:0')\n",
      "tensor(0.6250, device='cuda:0')\n",
      "tensor(0.6250, device='cuda:0')\n",
      "tensor(0.6350, device='cuda:0')\n",
      "tensor(0.6300, device='cuda:0')\n",
      "tensor(0.6250, device='cuda:0')\n",
      "tensor(0.6250, device='cuda:0')\n",
      "tensor(0.6500, device='cuda:0')\n",
      "tensor(0.6400, device='cuda:0')\n",
      "tensor(0.6300, device='cuda:0')\n",
      "tensor(0.6350, device='cuda:0')\n",
      "tensor(0.6450, device='cuda:0')\n",
      "tensor(0.6250, device='cuda:0')\n",
      "tensor(0.6300, device='cuda:0')\n",
      "tensor(0.6300, device='cuda:0')\n",
      "tensor(0.6450, device='cuda:0')\n",
      "tensor(0.6350, device='cuda:0')\n",
      "tensor(0.6300, device='cuda:0')\n",
      "tensor(0.6300, device='cuda:0')\n",
      "tensor(0.6300, device='cuda:0')\n",
      "tensor(0.6200, device='cuda:0')\n",
      "tensor(0.6300, device='cuda:0')\n",
      "tensor(0.6250, device='cuda:0')\n",
      "tensor(0.6250, device='cuda:0')\n",
      "tensor(0.6200, device='cuda:0')\n",
      "tensor(0.6250, device='cuda:0')\n",
      "tensor(0.6250, device='cuda:0')\n",
      "tensor(0.6250, device='cuda:0')\n",
      "tensor(0.6400, device='cuda:0')\n",
      "tensor(0.6200, device='cuda:0')\n",
      "tensor(0.6300, device='cuda:0')\n",
      "tensor(0.6350, device='cuda:0')\n",
      "tensor(0.6350, device='cuda:0')\n",
      "tensor(0.6500, device='cuda:0')\n",
      "tensor(0.6350, device='cuda:0')\n",
      "tensor(0.6450, device='cuda:0')\n",
      "tensor(0.6350, device='cuda:0')\n",
      "tensor(0.6300, device='cuda:0')\n",
      "tensor(0.6300, device='cuda:0')\n",
      "tensor(0.6300, device='cuda:0')\n",
      "tensor(0.6300, device='cuda:0')\n",
      "tensor(0.6250, device='cuda:0')\n",
      "tensor(0.6400, device='cuda:0')\n",
      "tensor(0.6350, device='cuda:0')\n",
      "tensor(0.6400, device='cuda:0')\n",
      "tensor(0.6400, device='cuda:0')\n",
      "tensor(0.6400, device='cuda:0')\n",
      "tensor(0.6350, device='cuda:0')\n",
      "tensor(0.6400, device='cuda:0')\n",
      "tensor(0.6400, device='cuda:0')\n",
      "tensor(0.6350, device='cuda:0')\n",
      "tensor(0.6300, device='cuda:0')\n",
      "tensor(0.6400, device='cuda:0')\n",
      "tensor(0.6400, device='cuda:0')\n",
      "tensor(0.6350, device='cuda:0')\n",
      "tensor(0.6350, device='cuda:0')\n",
      "tensor(0.6350, device='cuda:0')\n",
      "tensor(0.6350, device='cuda:0')\n",
      "tensor(0.6300, device='cuda:0')\n",
      "tensor(0.6350, device='cuda:0')\n",
      "tensor(0.6350, device='cuda:0')\n",
      "tensor(0.6350, device='cuda:0')\n",
      "tensor(0.6400, device='cuda:0')\n",
      "tensor(0.6350, device='cuda:0')\n",
      "tensor(0.6350, device='cuda:0')\n",
      "tensor(0.6400, device='cuda:0')\n",
      "tensor(0.6300, device='cuda:0')\n",
      "tensor(0.6350, device='cuda:0')\n",
      "tensor(0.6350, device='cuda:0')\n",
      "tensor(0.6350, device='cuda:0')\n",
      "tensor(0.6450, device='cuda:0')\n",
      "tensor(0.6450, device='cuda:0')\n",
      "tensor(0.6450, device='cuda:0')\n",
      "tensor(0.6350, device='cuda:0')\n",
      "tensor(0.6350, device='cuda:0')\n",
      "tensor(0.6300, device='cuda:0')\n",
      "tensor(0.6350, device='cuda:0')\n",
      "tensor(0.6400, device='cuda:0')\n",
      "tensor(0.6450, device='cuda:0')\n",
      "tensor(0.6400, device='cuda:0')\n",
      "tensor(0.6400, device='cuda:0')\n",
      "tensor(0.6300, device='cuda:0')\n",
      "tensor(0.6300, device='cuda:0')\n",
      "tensor(0.6300, device='cuda:0')\n",
      "tensor(0.6300, device='cuda:0')\n",
      "tensor(0.6400, device='cuda:0')\n",
      "tensor(0.6400, device='cuda:0')\n",
      "tensor(0.6300, device='cuda:0')\n",
      "tensor(0.6300, device='cuda:0')\n",
      "tensor(0.6300, device='cuda:0')\n",
      "tensor(0.6350, device='cuda:0')\n",
      "tensor(0.6300, device='cuda:0')\n",
      "tensor(0.6300, device='cuda:0')\n",
      "tensor(0.6350, device='cuda:0')\n",
      "tensor(0.6350, device='cuda:0')\n",
      "tensor(0.6300, device='cuda:0')\n",
      "tensor(0.6400, device='cuda:0')\n",
      "tensor(0.6350, device='cuda:0')\n",
      "tensor(0.6400, device='cuda:0')\n",
      "tensor(0.6350, device='cuda:0')\n",
      "tensor(0.6450, device='cuda:0')\n",
      "tensor(0.6300, device='cuda:0')\n",
      "tensor(0.6300, device='cuda:0')\n",
      "tensor(0.6350, device='cuda:0')\n",
      "tensor(0.6400, device='cuda:0')\n",
      "tensor(0.6400, device='cuda:0')\n",
      "tensor(0.6400, device='cuda:0')\n",
      "tensor(0.6350, device='cuda:0')\n",
      "tensor(0.6400, device='cuda:0')\n",
      "tensor(0.6400, device='cuda:0')\n",
      "tensor(0.6300, device='cuda:0')\n",
      "tensor(0.6400, device='cuda:0')\n",
      "tensor(0.6350, device='cuda:0')\n",
      "tensor(0.6450, device='cuda:0')\n",
      "tensor(0.6350, device='cuda:0')\n",
      "tensor(0.6400, device='cuda:0')\n",
      "tensor(0.6350, device='cuda:0')\n",
      "tensor(0.6400, device='cuda:0')\n",
      "tensor(0.6350, device='cuda:0')\n",
      "tensor(0.6350, device='cuda:0')\n",
      "tensor(0.6350, device='cuda:0')\n",
      "tensor(0.6350, device='cuda:0')\n",
      "tensor(0.6350, device='cuda:0')\n",
      "tensor(0.6500, device='cuda:0')\n",
      "tensor(0.6350, device='cuda:0')\n",
      "tensor(0.6400, device='cuda:0')\n",
      "tensor(0.6400, device='cuda:0')\n",
      "tensor(0.6400, device='cuda:0')\n",
      "tensor(0.6450, device='cuda:0')\n",
      "tensor(0.6450, device='cuda:0')\n",
      "tensor(0.6450, device='cuda:0')\n"
     ]
    }
   ],
   "source": [
    "batch_size = 1 # переобучение достигается легче, \n",
    "               # когда на малом кол-ве данных умная сеть обучается на индивидуальных экземплярах.\n",
    "               # - уменьшаем ее шансы учиться обобщать.\n",
    "test_accuracy_history = []\n",
    "test_loss_history = []\n",
    "train_loss_history = []\n",
    "\n",
    "X_test = X_test.to(device)\n",
    "y_test = y_test.to(device)\n",
    "\n",
    "X_train = X_train.to(device)\n",
    "y_train = y_train.to(device)\n",
    "\n",
    "for epoch in range(200): # 200 эпох достаточно чтобы убедиться, что дальше лучше не станет.\n",
    "    order = np.random.permutation(len(X_train))\n",
    "    \n",
    "    for start_index in range(0, len(X_train), batch_size):\n",
    "        optimizer.zero_grad()\n",
    "        \n",
    "        batch_indexes = order[start_index:start_index+batch_size]\n",
    "        \n",
    "        X_batch = X_train[batch_indexes].to(device)\n",
    "        y_batch = y_train[batch_indexes].to(device)\n",
    "        \n",
    "        preds = mnist_net.forward(X_batch) \n",
    "        \n",
    "        loss_value = loss(preds, y_batch)\n",
    "        loss_value.backward()\n",
    "        \n",
    "        optimizer.step()\n",
    "\n",
    "    test_preds = mnist_net.forward(X_test)\n",
    "    test_loss_history.append(loss(test_preds, y_test))\n",
    "\n",
    "    preds = mnist_net.forward(X_train)\n",
    "    train_loss_history.append(loss(preds, y_train))\n",
    "\n",
    "    \n",
    "    accuracy = (test_preds.argmax(dim=1) == y_test).float().mean()\n",
    "    test_accuracy_history.append(accuracy)\n",
    "    print(accuracy)"
   ]
  },
  {
   "cell_type": "code",
   "execution_count": 19,
   "metadata": {},
   "outputs": [
    {
     "data": {
      "image/png": "[encoded data removed]",
      "text/plain": [
       "<Figure size 1080x432 with 1 Axes>"
      ]
     },
     "metadata": {
      "needs_background": "light"
     },
     "output_type": "display_data"
    }
   ],
   "source": [
    "import matplotlib.pyplot as plt\n",
    "plt.rcParams['figure.figsize'] = (15.0, 6.0)\n",
    "plt.plot(test_accuracy_history, label='acc') \n",
    "plt.plot(test_loss_history, label='test loss');\n",
    "plt.plot(train_loss_history, label='train loss');\n",
    "plt.legend(loc='center right');"
   ]
  },
  {
   "cell_type": "code",
   "execution_count": 20,
   "metadata": {},
   "outputs": [
    {
     "data": {
      "text/plain": [
       "[tensor(8.0109e-07, device='cuda:0', grad_fn=<NllLossBackward>),\n",
       " tensor(7.4387e-07, device='cuda:0', grad_fn=<NllLossBackward>),\n",
       " tensor(7.0572e-07, device='cuda:0', grad_fn=<NllLossBackward>),\n",
       " tensor(6.0081e-07, device='cuda:0', grad_fn=<NllLossBackward>)]"
      ]
     },
     "execution_count": 20,
     "metadata": {},
     "output_type": "execute_result"
    }
   ],
   "source": [
    "train_loss_history[-4:] \n",
    "# сеть зазубривает тренировочный набор настолько, (train loss стремится к нулю)\n",
    "# что тестовый лосс линейно уходит в плюс бесконечность."
   ]
  },
  {
   "cell_type": "code",
   "execution_count": 21,
   "metadata": {},
   "outputs": [
    {
     "data": {
      "text/plain": [
       "[tensor(0.6400, device='cuda:0'),\n",
       " tensor(0.6450, device='cuda:0'),\n",
       " tensor(0.6450, device='cuda:0'),\n",
       " tensor(0.6450, device='cuda:0')]"
      ]
     },
     "execution_count": 21,
     "metadata": {},
     "output_type": "execute_result"
    }
   ],
   "source": [
    "test_accuracy_history[-4:] # практическая точность на тесте при этом не улучшается."
   ]
  },
  {
   "cell_type": "code",
   "execution_count": 22,
   "metadata": {},
   "outputs": [
    {
     "data": {
      "text/plain": [
       "tensor(0.6700, device='cuda:0')"
      ]
     },
     "execution_count": 22,
     "metadata": {},
     "output_type": "execute_result"
    }
   ],
   "source": [
    "max(test_accuracy_history)"
   ]
  },
  {
   "cell_type": "code",
   "execution_count": 23,
   "metadata": {},
   "outputs": [
    {
     "data": {
      "text/plain": [
       "tensor(1.1096, device='cuda:0', grad_fn=<NllLossBackward>)"
      ]
     },
     "execution_count": 23,
     "metadata": {},
     "output_type": "execute_result"
    }
   ],
   "source": [
    "min(test_loss_history)"
   ]
  },
  {
   "cell_type": "code",
   "execution_count": 26,
   "metadata": {},
   "outputs": [
    {
     "data": {
      "text/plain": [
       "[tensor(2.6239, device='cuda:0', grad_fn=<NllLossBackward>),\n",
       " tensor(2.6317, device='cuda:0', grad_fn=<NllLossBackward>),\n",
       " tensor(2.6387, device='cuda:0', grad_fn=<NllLossBackward>),\n",
       " tensor(2.6398, device='cuda:0', grad_fn=<NllLossBackward>)]"
      ]
     },
     "execution_count": 26,
     "metadata": {},
     "output_type": "execute_result"
    }
   ],
   "source": [
    "test_loss_history[-4:] #6.0081e-07"
   ]
  },
  {
   "cell_type": "code",
   "execution_count": 16,
   "metadata": {},
   "outputs": [
    {
     "data": {
      "image/png": "[encoded data removed]",
      "text/plain": [
       "<Figure size 432x288 with 1 Axes>"
      ]
     },
     "metadata": {
      "needs_background": "light"
     },
     "output_type": "display_data"
    }
   ],
   "source": [
    "# так выглядел незапорченный процесс обучения. /для сравнения.\n",
    "#plt.plot(test_accuracy_history)\n",
    "#plt.plot(test_loss_history); # NO overfit"
   ]
  },
  {
   "cell_type": "code",
   "execution_count": null,
   "metadata": {},
   "outputs": [],
   "source": []
  }
 ],
 "metadata": {
  "kernelspec": {
   "display_name": "Python 3",
   "language": "python",
   "name": "python3"
  },
  "language_info": {
   "codemirror_mode": {
    "name": "ipython",
    "version": 3
   },
   "file_extension": ".py",
   "mimetype": "text/x-python",
   "name": "python",
   "nbconvert_exporter": "python",
   "pygments_lexer": "ipython3",
   "version": "3.6.9"
  }
 },
 "nbformat": 4,
 "nbformat_minor": 4
}
