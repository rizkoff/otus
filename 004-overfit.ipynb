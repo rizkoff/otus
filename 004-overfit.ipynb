{
 "cells": [
  {
   "cell_type": "code",
   "execution_count": 1,
   "metadata": {},
   "outputs": [],
   "source": [
    "import torch\n",
    "import random\n",
    "import numpy as np\n",
    "\n",
    "random.seed(0)\n",
    "np.random.seed(0)\n",
    "torch.manual_seed(0)\n",
    "torch.cuda.manual_seed(0)\n",
    "torch.backends.cudnn.deterministic = True"
   ]
  },
  {
   "cell_type": "code",
   "execution_count": 2,
   "metadata": {},
   "outputs": [],
   "source": [
    "import torchvision.datasets\n",
    "MNIST_train = torchvision.datasets.MNIST('./', download=True, train=True)\n",
    "MNIST_test = torchvision.datasets.MNIST('./', download=True, train=False)"
   ]
  },
  {
   "cell_type": "code",
   "execution_count": 3,
   "metadata": {},
   "outputs": [],
   "source": [
    "X_train = MNIST_train.data[0:100] # 1-е отличие: маленький тренировочный датасет, легко зазубрить, вместо того \n",
    "y_train = MNIST_train.targets[0:100] # чтобы учиться обобщать\n",
    "X_test = MNIST_test.data[0:200]\n",
    "y_test = MNIST_test.targets[0:200]"
   ]
  },
  {
   "cell_type": "code",
   "execution_count": 4,
   "metadata": {},
   "outputs": [
    {
     "data": {
      "text/plain": [
       "(torch.uint8, torch.int64)"
      ]
     },
     "execution_count": 4,
     "metadata": {},
     "output_type": "execute_result"
    }
   ],
   "source": [
    "X_train.dtype, y_train.dtype"
   ]
  },
  {
   "cell_type": "code",
   "execution_count": 5,
   "metadata": {},
   "outputs": [],
   "source": [
    "X_train = X_train.float()\n",
    "X_test = X_test.float()"
   ]
  },
  {
   "cell_type": "code",
   "execution_count": 6,
   "metadata": {},
   "outputs": [
    {
     "data": {
      "text/plain": [
       "(torch.Size([100, 28, 28]), torch.Size([200, 28, 28]))"
      ]
     },
     "execution_count": 6,
     "metadata": {},
     "output_type": "execute_result"
    }
   ],
   "source": [
    "X_train.shape, X_test.shape"
   ]
  },
  {
   "cell_type": "code",
   "execution_count": 7,
   "metadata": {},
   "outputs": [
    {
     "data": {
      "text/plain": [
       "(torch.Size([100]), torch.Size([200]))"
      ]
     },
     "execution_count": 7,
     "metadata": {},
     "output_type": "execute_result"
    }
   ],
   "source": [
    "y_train.shape, y_test.shape"
   ]
  },
  {
   "cell_type": "code",
   "execution_count": 8,
   "metadata": {},
   "outputs": [],
   "source": [
    "#import matplotlib.pyplot as plt\n",
    "#plt.imshow(X_train[10, :, :])\n",
    "#plt.show()\n",
    "#print(y_train[10])"
   ]
  },
  {
   "cell_type": "code",
   "execution_count": 9,
   "metadata": {},
   "outputs": [],
   "source": [
    "X_train = X_train.reshape([-1, 28 * 28])\n",
    "X_test = X_test.reshape([-1, 28 * 28])"
   ]
  },
  {
   "cell_type": "code",
   "execution_count": 10,
   "metadata": {},
   "outputs": [],
   "source": [
    "class MNISTNet(torch.nn.Module):\n",
    "    def __init__(self, n_hidden_neurons):\n",
    "        super(MNISTNet, self).__init__()\n",
    "        self.fc1 = torch.nn.Linear(28 * 28, 5*n_hidden_neurons)# 2-й шаг: слишком сложная сеть для такого \n",
    "        self.ac1 = torch.nn.Sigmoid()\n",
    "        self.fc12 = torch.nn.Linear(5*n_hidden_neurons, 1*n_hidden_neurons)# наглядного датасета\n",
    "        self.ac12 = torch.nn.Sigmoid()\n",
    "        self.fc22 = torch.nn.Linear(1*n_hidden_neurons, 1*n_hidden_neurons)#\n",
    "        self.ac22 = torch.nn.Sigmoid()\n",
    "        self.fc2 = torch.nn.Linear(1*n_hidden_neurons, 10) \n",
    "    \n",
    "    def forward(self, x):\n",
    "        x = self.fc1(x)\n",
    "        x = self.ac1(x)\n",
    "        x = self.fc12(x)\n",
    "        x = self.ac12(x)\n",
    "        x = self.fc22(x)\n",
    "        x = self.ac22(x)\n",
    "        x = self.fc2(x)\n",
    "        return x\n",
    "    \n",
    "mnist_net = MNISTNet(300)\n",
    "#                28*28; 1500; 300; 300; 10"
   ]
  },
  {
   "cell_type": "code",
   "execution_count": 11,
   "metadata": {},
   "outputs": [
    {
     "data": {
      "text/plain": [
       "True"
      ]
     },
     "execution_count": 11,
     "metadata": {},
     "output_type": "execute_result"
    }
   ],
   "source": [
    "torch.cuda.is_available()"
   ]
  },
  {
   "cell_type": "code",
   "execution_count": 12,
   "metadata": {},
   "outputs": [
    {
     "name": "stdout",
     "output_type": "stream",
     "text": [
      "Tue May 19 19:06:33 2020       \r\n",
      "+-----------------------------------------------------------------------------+\r\n",
      "| NVIDIA-SMI 440.64.00    Driver Version: 440.64.00    CUDA Version: 10.2     |\r\n",
      "|-------------------------------+----------------------+----------------------+\r\n",
      "| GPU  Name        Persistence-M| Bus-Id        Disp.A | Volatile Uncorr. ECC |\r\n",
      "| Fan  Temp  Perf  Pwr:Usage/Cap|         Memory-Usage | GPU-Util  Compute M. |\r\n",
      "|===============================+======================+======================|\r\n",
      "|   0  GeForce GTX 750 Ti  On   | 00000000:01:00.0 Off |                  N/A |\r\n",
      "| 14%   36C    P8     1W /  38W |    655MiB /  1999MiB |      0%      Default |\r\n",
      "+-------------------------------+----------------------+----------------------+\r\n",
      "                                                                               \r\n",
      "+-----------------------------------------------------------------------------+\r\n",
      "| Processes:                                                       GPU Memory |\r\n",
      "|  GPU       PID   Type   Process name                             Usage      |\r\n",
      "|=============================================================================|\r\n",
      "+-----------------------------------------------------------------------------+\r\n"
     ]
    }
   ],
   "source": [
    "!nvidia-smi"
   ]
  },
  {
   "cell_type": "code",
   "execution_count": 13,
   "metadata": {
    "scrolled": true
   },
   "outputs": [],
   "source": [
    "device = torch.device('cuda:0' if torch.cuda.is_available() else 'cpu')\n",
    "mnist_net = mnist_net.to(device)\n",
    "#list(mnist_net.parameters())"
   ]
  },
  {
   "cell_type": "code",
   "execution_count": 14,
   "metadata": {},
   "outputs": [],
   "source": [
    "loss = torch.nn.CrossEntropyLoss()\n",
    "optimizer = torch.optim.Adam(mnist_net.parameters(), lr=7.5e-4) # 1.0e-3) # легкое изменение. ухудшать LR цели нет."
   ]
  },
  {
   "cell_type": "code",
   "execution_count": 15,
   "metadata": {
    "scrolled": true
   },
   "outputs": [
    {
     "name": "stdout",
     "output_type": "stream",
     "text": [
      "epoch #1 of 200; test acc: 0.225\n",
      "epoch #2 of 200; test acc: 0.39\n",
      "epoch #3 of 200; test acc: 0.505\n",
      "epoch #4 of 200; test acc: 0.5\n",
      "epoch #5 of 200; test acc: 0.5\n",
      "epoch #6 of 200; test acc: 0.535\n",
      "epoch #7 of 200; test acc: 0.52\n",
      "epoch #8 of 200; test acc: 0.57\n",
      "epoch #9 of 200; test acc: 0.555\n",
      "epoch #10 of 200; test acc: 0.57\n",
      "epoch #11 of 200; test acc: 0.615\n",
      "epoch #12 of 200; test acc: 0.6\n",
      "epoch #13 of 200; test acc: 0.61\n",
      "epoch #14 of 200; test acc: 0.605\n",
      "epoch #15 of 200; test acc: 0.525\n",
      "epoch #16 of 200; test acc: 0.635\n",
      "epoch #17 of 200; test acc: 0.62\n",
      "epoch #18 of 200; test acc: 0.61\n",
      "epoch #19 of 200; test acc: 0.645\n",
      "epoch #20 of 200; test acc: 0.635\n",
      "epoch #21 of 200; test acc: 0.56\n",
      "epoch #22 of 200; test acc: 0.615\n",
      "epoch #23 of 200; test acc: 0.585\n",
      "epoch #24 of 200; test acc: 0.605\n",
      "epoch #25 of 200; test acc: 0.67\n",
      "epoch #26 of 200; test acc: 0.625\n",
      "epoch #27 of 200; test acc: 0.61\n",
      "epoch #28 of 200; test acc: 0.63\n",
      "epoch #29 of 200; test acc: 0.625\n",
      "epoch #30 of 200; test acc: 0.65\n",
      "epoch #31 of 200; test acc: 0.63\n",
      "epoch #32 of 200; test acc: 0.605\n",
      "epoch #33 of 200; test acc: 0.6\n",
      "epoch #34 of 200; test acc: 0.61\n",
      "epoch #35 of 200; test acc: 0.63\n",
      "epoch #36 of 200; test acc: 0.655\n",
      "epoch #37 of 200; test acc: 0.64\n",
      "epoch #38 of 200; test acc: 0.64\n",
      "epoch #39 of 200; test acc: 0.635\n",
      "epoch #40 of 200; test acc: 0.64\n",
      "epoch #41 of 200; test acc: 0.625\n",
      "epoch #42 of 200; test acc: 0.64\n",
      "epoch #43 of 200; test acc: 0.65\n",
      "epoch #44 of 200; test acc: 0.625\n",
      "epoch #45 of 200; test acc: 0.625\n",
      "epoch #46 of 200; test acc: 0.635\n",
      "epoch #47 of 200; test acc: 0.63\n",
      "epoch #48 of 200; test acc: 0.64\n",
      "epoch #49 of 200; test acc: 0.635\n",
      "epoch #50 of 200; test acc: 0.64\n",
      "epoch #51 of 200; test acc: 0.64\n",
      "epoch #52 of 200; test acc: 0.63\n",
      "epoch #53 of 200; test acc: 0.645\n",
      "epoch #54 of 200; test acc: 0.64\n",
      "epoch #55 of 200; test acc: 0.635\n",
      "epoch #56 of 200; test acc: 0.635\n",
      "epoch #57 of 200; test acc: 0.645\n",
      "epoch #58 of 200; test acc: 0.64\n",
      "epoch #59 of 200; test acc: 0.625\n",
      "epoch #60 of 200; test acc: 0.65\n",
      "epoch #61 of 200; test acc: 0.625\n",
      "epoch #62 of 200; test acc: 0.63\n",
      "epoch #63 of 200; test acc: 0.635\n",
      "epoch #64 of 200; test acc: 0.635\n",
      "epoch #65 of 200; test acc: 0.645\n",
      "epoch #66 of 200; test acc: 0.65\n",
      "epoch #67 of 200; test acc: 0.635\n",
      "epoch #68 of 200; test acc: 0.655\n",
      "epoch #69 of 200; test acc: 0.64\n",
      "epoch #70 of 200; test acc: 0.625\n",
      "epoch #71 of 200; test acc: 0.625\n",
      "epoch #72 of 200; test acc: 0.625\n",
      "epoch #73 of 200; test acc: 0.635\n",
      "epoch #74 of 200; test acc: 0.63\n",
      "epoch #75 of 200; test acc: 0.625\n",
      "epoch #76 of 200; test acc: 0.625\n",
      "epoch #77 of 200; test acc: 0.65\n",
      "epoch #78 of 200; test acc: 0.64\n",
      "epoch #79 of 200; test acc: 0.63\n",
      "epoch #80 of 200; test acc: 0.635\n",
      "epoch #81 of 200; test acc: 0.645\n",
      "epoch #82 of 200; test acc: 0.625\n",
      "epoch #83 of 200; test acc: 0.63\n",
      "epoch #84 of 200; test acc: 0.63\n",
      "epoch #85 of 200; test acc: 0.645\n",
      "epoch #86 of 200; test acc: 0.635\n",
      "epoch #87 of 200; test acc: 0.63\n",
      "epoch #88 of 200; test acc: 0.63\n",
      "epoch #89 of 200; test acc: 0.63\n",
      "epoch #90 of 200; test acc: 0.62\n",
      "epoch #91 of 200; test acc: 0.63\n",
      "epoch #92 of 200; test acc: 0.625\n",
      "epoch #93 of 200; test acc: 0.625\n",
      "epoch #94 of 200; test acc: 0.62\n",
      "epoch #95 of 200; test acc: 0.625\n",
      "epoch #96 of 200; test acc: 0.625\n",
      "epoch #97 of 200; test acc: 0.625\n",
      "epoch #98 of 200; test acc: 0.64\n",
      "epoch #99 of 200; test acc: 0.62\n",
      "epoch #100 of 200; test acc: 0.63\n",
      "epoch #101 of 200; test acc: 0.635\n",
      "epoch #102 of 200; test acc: 0.635\n",
      "epoch #103 of 200; test acc: 0.65\n",
      "epoch #104 of 200; test acc: 0.635\n",
      "epoch #105 of 200; test acc: 0.645\n",
      "epoch #106 of 200; test acc: 0.635\n",
      "epoch #107 of 200; test acc: 0.63\n",
      "epoch #108 of 200; test acc: 0.63\n",
      "epoch #109 of 200; test acc: 0.63\n",
      "epoch #110 of 200; test acc: 0.63\n",
      "epoch #111 of 200; test acc: 0.625\n",
      "epoch #112 of 200; test acc: 0.64\n",
      "epoch #113 of 200; test acc: 0.635\n",
      "epoch #114 of 200; test acc: 0.64\n",
      "epoch #115 of 200; test acc: 0.64\n",
      "epoch #116 of 200; test acc: 0.64\n",
      "epoch #117 of 200; test acc: 0.635\n",
      "epoch #118 of 200; test acc: 0.64\n",
      "epoch #119 of 200; test acc: 0.64\n",
      "epoch #120 of 200; test acc: 0.635\n",
      "epoch #121 of 200; test acc: 0.63\n",
      "epoch #122 of 200; test acc: 0.64\n",
      "epoch #123 of 200; test acc: 0.64\n",
      "epoch #124 of 200; test acc: 0.635\n",
      "epoch #125 of 200; test acc: 0.635\n",
      "epoch #126 of 200; test acc: 0.635\n",
      "epoch #127 of 200; test acc: 0.635\n",
      "epoch #128 of 200; test acc: 0.63\n",
      "epoch #129 of 200; test acc: 0.635\n",
      "epoch #130 of 200; test acc: 0.635\n",
      "epoch #131 of 200; test acc: 0.635\n",
      "epoch #132 of 200; test acc: 0.64\n",
      "epoch #133 of 200; test acc: 0.635\n",
      "epoch #134 of 200; test acc: 0.635\n",
      "epoch #135 of 200; test acc: 0.64\n",
      "epoch #136 of 200; test acc: 0.63\n",
      "epoch #137 of 200; test acc: 0.635\n",
      "epoch #138 of 200; test acc: 0.635\n",
      "epoch #139 of 200; test acc: 0.635\n",
      "epoch #140 of 200; test acc: 0.645\n",
      "epoch #141 of 200; test acc: 0.645\n",
      "epoch #142 of 200; test acc: 0.645\n",
      "epoch #143 of 200; test acc: 0.635\n",
      "epoch #144 of 200; test acc: 0.635\n",
      "epoch #145 of 200; test acc: 0.63\n",
      "epoch #146 of 200; test acc: 0.635\n",
      "epoch #147 of 200; test acc: 0.64\n",
      "epoch #148 of 200; test acc: 0.645\n",
      "epoch #149 of 200; test acc: 0.64\n",
      "epoch #150 of 200; test acc: 0.64\n",
      "epoch #151 of 200; test acc: 0.63\n",
      "epoch #152 of 200; test acc: 0.63\n",
      "epoch #153 of 200; test acc: 0.63\n",
      "epoch #154 of 200; test acc: 0.63\n",
      "epoch #155 of 200; test acc: 0.64\n",
      "epoch #156 of 200; test acc: 0.64\n",
      "epoch #157 of 200; test acc: 0.63\n",
      "epoch #158 of 200; test acc: 0.63\n",
      "epoch #159 of 200; test acc: 0.63\n",
      "epoch #160 of 200; test acc: 0.635\n",
      "epoch #161 of 200; test acc: 0.63\n",
      "epoch #162 of 200; test acc: 0.63\n",
      "epoch #163 of 200; test acc: 0.635\n",
      "epoch #164 of 200; test acc: 0.635\n",
      "epoch #165 of 200; test acc: 0.63\n",
      "epoch #166 of 200; test acc: 0.64\n",
      "epoch #167 of 200; test acc: 0.635\n",
      "epoch #168 of 200; test acc: 0.64\n",
      "epoch #169 of 200; test acc: 0.635\n",
      "epoch #170 of 200; test acc: 0.645\n",
      "epoch #171 of 200; test acc: 0.63\n",
      "epoch #172 of 200; test acc: 0.63\n",
      "epoch #173 of 200; test acc: 0.635\n",
      "epoch #174 of 200; test acc: 0.64\n",
      "epoch #175 of 200; test acc: 0.64\n",
      "epoch #176 of 200; test acc: 0.64\n",
      "epoch #177 of 200; test acc: 0.635\n",
      "epoch #178 of 200; test acc: 0.64\n",
      "epoch #179 of 200; test acc: 0.64\n",
      "epoch #180 of 200; test acc: 0.63\n",
      "epoch #181 of 200; test acc: 0.64\n",
      "epoch #182 of 200; test acc: 0.635\n",
      "epoch #183 of 200; test acc: 0.645\n",
      "epoch #184 of 200; test acc: 0.635\n",
      "epoch #185 of 200; test acc: 0.64\n",
      "epoch #186 of 200; test acc: 0.635\n",
      "epoch #187 of 200; test acc: 0.64\n",
      "epoch #188 of 200; test acc: 0.635\n",
      "epoch #189 of 200; test acc: 0.635\n",
      "epoch #190 of 200; test acc: 0.635\n",
      "epoch #191 of 200; test acc: 0.635\n",
      "epoch #192 of 200; test acc: 0.635\n",
      "epoch #193 of 200; test acc: 0.65\n",
      "epoch #194 of 200; test acc: 0.635\n",
      "epoch #195 of 200; test acc: 0.64\n",
      "epoch #196 of 200; test acc: 0.64\n",
      "epoch #197 of 200; test acc: 0.64\n",
      "epoch #198 of 200; test acc: 0.645\n",
      "epoch #199 of 200; test acc: 0.645\n",
      "epoch #200 of 200; test acc: 0.645\n"
     ]
    }
   ],
   "source": [
    "batch_size = 1 # переобучение достигается легче, \n",
    "               # когда на малом кол-ве данных умная сеть обучается на индивидуальных экземплярах.\n",
    "               # - уменьшаем ее шансы учиться обобщать.\n",
    "epochs = 200  # 200 эпох будет достаточно чтобы убедиться, что дальше лучше не станет.\n",
    "test_accuracy_history = []\n",
    "train_accuracy_history = []\n",
    "test_loss_history = []\n",
    "train_loss_history = []\n",
    "\n",
    "X_test = X_test.to(device)\n",
    "y_test = y_test.to(device)\n",
    "\n",
    "X_train = X_train.to(device)\n",
    "y_train = y_train.to(device)\n",
    "\n",
    "for epoch in range(epochs):\n",
    "    order = np.random.permutation(len(X_train))\n",
    "    \n",
    "    for start_index in range(0, len(X_train), batch_size):\n",
    "        optimizer.zero_grad()\n",
    "        \n",
    "        batch_indexes = order[start_index:start_index+batch_size]\n",
    "        \n",
    "        X_batch = X_train[batch_indexes].to(device)\n",
    "        y_batch = y_train[batch_indexes].to(device)\n",
    "        \n",
    "        preds = mnist_net.forward(X_batch) \n",
    "        \n",
    "        accuracy = (preds.argmax(dim=1) == y_batch).float().mean()\n",
    "        train_accuracy_history.append(accuracy)\n",
    "        loss_value = loss(preds, y_batch)\n",
    "        loss_value.backward()\n",
    "        \n",
    "        optimizer.step()\n",
    "\n",
    "    test_preds = mnist_net.forward(X_test)\n",
    "    test_loss_history.append(loss(test_preds, y_test))\n",
    "\n",
    "    preds = mnist_net.forward(X_train)\n",
    "    train_loss_history.append(loss(preds, y_train))\n",
    "\n",
    "    \n",
    "    accuracy = (test_preds.argmax(dim=1) == y_test).float().mean()\n",
    "    test_accuracy_history.append(accuracy)\n",
    "    print(f\"epoch #%d of %d; test acc: %.3g\" % (epoch+1,epochs,accuracy.item()))"
   ]
  },
  {
   "cell_type": "code",
   "execution_count": 16,
   "metadata": {},
   "outputs": [
    {
     "data": {
      "image/png": "[encoded data removed]",
      "text/plain": [
       "<Figure size 1080x432 with 1 Axes>"
      ]
     },
     "metadata": {
      "needs_background": "light"
     },
     "output_type": "display_data"
    }
   ],
   "source": [
    "import matplotlib.pyplot as plt\n",
    "plt.rcParams['figure.figsize'] = (15.0, 6.0)\n",
    "plt.plot(test_loss_history, label=f\"test loss: min=%.3g; %.3g at epoch #%d\" % (min(test_loss_history), test_loss_history[-1],epochs));\n",
    "plt.plot(train_loss_history, label=f\"train loss: %.3g at epoch #%d\" % (train_loss_history[-1], epochs) );\n",
    "plt.legend(loc='center right');\n",
    "plt.title('Loss');\n",
    "# лосс на тренировочном наборе быстро устремился к нулю, \n",
    "# лосс на тесте линейно ухудшается."
   ]
  },
  {
   "cell_type": "code",
   "execution_count": 17,
   "metadata": {},
   "outputs": [
    {
     "data": {
      "image/png": "[encoded data removed]",
      "text/plain": [
       "<Figure size 1080x432 with 1 Axes>"
      ]
     },
     "metadata": {
      "needs_background": "light"
     },
     "output_type": "display_data"
    }
   ],
   "source": [
    "import matplotlib.pyplot as plt\n",
    "\n",
    "# считаем moving average для train accuracy, т.к. батч = 1 экземпляр\n",
    "trn_sz = 100\n",
    "train_accuracy_history_mavg = \\\n",
    "    [sum(train_accuracy_history[trn_sz*idx:trn_sz*(idx+1)])/float(trn_sz) for idx in range(epochs)]\n",
    "\n",
    "plt.rcParams['figure.figsize'] = (15.0, 6.0)\n",
    "plt.plot(train_accuracy_history_mavg, label=f\"train acc: %.4f finally\" % train_accuracy_history_mavg[-1]) \n",
    "plt.plot(test_accuracy_history, label=f\"test acc: %.4g finally\" % test_accuracy_history[-1]) \n",
    "plt.legend(loc='center right');\n",
    "plt.title('Accuracy');\n",
    "# показали, что тестовая accuracy не улучшается, \n",
    "# в то время как тренировочная быстро становится тождественно равна 100%."
   ]
  },
  {
   "cell_type": "code",
   "execution_count": 18,
   "metadata": {},
   "outputs": [
    {
     "data": {
      "text/plain": [
       "[tensor(8.0109e-07, device='cuda:0', grad_fn=<NllLossBackward>),\n",
       " tensor(7.4387e-07, device='cuda:0', grad_fn=<NllLossBackward>),\n",
       " tensor(7.0572e-07, device='cuda:0', grad_fn=<NllLossBackward>),\n",
       " tensor(6.0081e-07, device='cuda:0', grad_fn=<NllLossBackward>)]"
      ]
     },
     "execution_count": 18,
     "metadata": {},
     "output_type": "execute_result"
    }
   ],
   "source": [
    "train_loss_history[-4:] \n",
    "# сеть зазубривает тренировочный набор настолько, (train loss стремится к нулю)\n",
    "# что тестовый лосс линейно уходит в плюс бесконечность."
   ]
  },
  {
   "cell_type": "code",
   "execution_count": 19,
   "metadata": {},
   "outputs": [
    {
     "data": {
      "text/plain": [
       "[tensor(0.6400, device='cuda:0'),\n",
       " tensor(0.6450, device='cuda:0'),\n",
       " tensor(0.6450, device='cuda:0'),\n",
       " tensor(0.6450, device='cuda:0')]"
      ]
     },
     "execution_count": 19,
     "metadata": {},
     "output_type": "execute_result"
    }
   ],
   "source": [
    "test_accuracy_history[-4:] # практическая точность на тесте при этом не улучшается."
   ]
  },
  {
   "cell_type": "code",
   "execution_count": 20,
   "metadata": {},
   "outputs": [
    {
     "data": {
      "text/plain": [
       "tensor(0.6700, device='cuda:0')"
      ]
     },
     "execution_count": 20,
     "metadata": {},
     "output_type": "execute_result"
    }
   ],
   "source": [
    "max(test_accuracy_history)"
   ]
  },
  {
   "cell_type": "code",
   "execution_count": 21,
   "metadata": {},
   "outputs": [
    {
     "data": {
      "text/plain": [
       "tensor(1.1096, device='cuda:0', grad_fn=<NllLossBackward>)"
      ]
     },
     "execution_count": 21,
     "metadata": {},
     "output_type": "execute_result"
    }
   ],
   "source": [
    "min(test_loss_history)"
   ]
  },
  {
   "cell_type": "code",
   "execution_count": 22,
   "metadata": {},
   "outputs": [
    {
     "data": {
      "text/plain": [
       "[tensor(2.6239, device='cuda:0', grad_fn=<NllLossBackward>),\n",
       " tensor(2.6317, device='cuda:0', grad_fn=<NllLossBackward>),\n",
       " tensor(2.6387, device='cuda:0', grad_fn=<NllLossBackward>),\n",
       " tensor(2.6398, device='cuda:0', grad_fn=<NllLossBackward>)]"
      ]
     },
     "execution_count": 22,
     "metadata": {},
     "output_type": "execute_result"
    }
   ],
   "source": [
    "test_loss_history[-4:] #6.0081e-07"
   ]
  },
  {
   "cell_type": "code",
   "execution_count": 16,
   "metadata": {},
   "outputs": [
    {
     "data": {
      "image/png": "[encoded data removed]",
      "text/plain": [
       "<Figure size 432x288 with 1 Axes>"
      ]
     },
     "metadata": {
      "needs_background": "light"
     },
     "output_type": "display_data"
    }
   ],
   "source": [
    "# так выглядел незапорченный процесс обучения. /для сравнения.\n",
    "#plt.plot(test_accuracy_history)\n",
    "#plt.plot(test_loss_history); # NO overfit"
   ]
  },
  {
   "cell_type": "code",
   "execution_count": null,
   "metadata": {},
   "outputs": [],
   "source": []
  }
 ],
 "metadata": {
  "kernelspec": {
   "display_name": "Python 3",
   "language": "python",
   "name": "python3"
  },
  "language_info": {
   "codemirror_mode": {
    "name": "ipython",
    "version": 3
   },
   "file_extension": ".py",
   "mimetype": "text/x-python",
   "name": "python",
   "nbconvert_exporter": "python",
   "pygments_lexer": "ipython3",
   "version": "3.6.9"
  }
 },
 "nbformat": 4,
 "nbformat_minor": 4
}
